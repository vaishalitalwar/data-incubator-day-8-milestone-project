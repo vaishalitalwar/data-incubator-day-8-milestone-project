{
 "cells": [
  {
   "cell_type": "code",
   "execution_count": 1,
   "id": "3831545b",
   "metadata": {},
   "outputs": [],
   "source": [
    "# QUESTIONS:\n",
    "# How many different companies are represented in the data set?\n",
    "# What is the total number of jobs created for businesses in Queens?\n",
    "# How many different unique email domains names are there in the data set?\n",
    "# Considering only NTAs with at least 5 listed businesses, what is the average total savings and the total jobs created for each NTA?\n",
    "# Save your result for the previous question as a CSV file."
   ]
  },
  {
   "cell_type": "code",
   "execution_count": 28,
   "id": "ce18034c",
   "metadata": {},
   "outputs": [],
   "source": [
    "import pandas as pd\n",
    "import matplotlib.pyplot as plt\n",
    "import numpy as np"
   ]
  },
  {
   "cell_type": "code",
   "execution_count": 3,
   "id": "dd6682b1",
   "metadata": {},
   "outputs": [
    {
     "data": {
      "text/html": [
       "<div>\n",
       "<style scoped>\n",
       "    .dataframe tbody tr th:only-of-type {\n",
       "        vertical-align: middle;\n",
       "    }\n",
       "\n",
       "    .dataframe tbody tr th {\n",
       "        vertical-align: top;\n",
       "    }\n",
       "\n",
       "    .dataframe thead th {\n",
       "        text-align: right;\n",
       "    }\n",
       "</style>\n",
       "<table border=\"1\" class=\"dataframe\">\n",
       "  <thead>\n",
       "    <tr style=\"text-align: right;\">\n",
       "      <th></th>\n",
       "      <th>Period</th>\n",
       "      <th>Company Name</th>\n",
       "      <th>company contact</th>\n",
       "      <th>company email</th>\n",
       "      <th>company phone</th>\n",
       "      <th>Address</th>\n",
       "      <th>City</th>\n",
       "      <th>State</th>\n",
       "      <th>Postcode</th>\n",
       "      <th>Industry</th>\n",
       "      <th>...</th>\n",
       "      <th>Electric Savings</th>\n",
       "      <th>Borough</th>\n",
       "      <th>Latitude</th>\n",
       "      <th>Longitude</th>\n",
       "      <th>Community Board</th>\n",
       "      <th>Council District</th>\n",
       "      <th>BIN</th>\n",
       "      <th>BBL</th>\n",
       "      <th>Census Tract (2020)</th>\n",
       "      <th>Neighborhood Tabulation Area (NTA) (2020)</th>\n",
       "    </tr>\n",
       "  </thead>\n",
       "  <tbody>\n",
       "    <tr>\n",
       "      <th>0</th>\n",
       "      <td>FY2018</td>\n",
       "      <td>139 ACA Realty, Inc.</td>\n",
       "      <td>Eitan Chandally</td>\n",
       "      <td>barbara@dial7.com</td>\n",
       "      <td>7187076123</td>\n",
       "      <td>43-23 35th Street</td>\n",
       "      <td>Long Island City</td>\n",
       "      <td>NY</td>\n",
       "      <td>11101</td>\n",
       "      <td>Commercial</td>\n",
       "      <td>...</td>\n",
       "      <td>NaN</td>\n",
       "      <td>QUEENS</td>\n",
       "      <td>40.745706</td>\n",
       "      <td>-73.929565</td>\n",
       "      <td>402.0</td>\n",
       "      <td>26.0</td>\n",
       "      <td>4003160.0</td>\n",
       "      <td>4.002220e+09</td>\n",
       "      <td>17902.0</td>\n",
       "      <td>QN0202</td>\n",
       "    </tr>\n",
       "    <tr>\n",
       "      <th>1</th>\n",
       "      <td>FY2018</td>\n",
       "      <td>141 Lake Avenue Realty c/o JR Produce, Inc.</td>\n",
       "      <td>Josef Raz</td>\n",
       "      <td>jrproduce@gmail.com</td>\n",
       "      <td>7183708782</td>\n",
       "      <td>141 Lake Avenue</td>\n",
       "      <td>Staten Island</td>\n",
       "      <td>NY</td>\n",
       "      <td>10303</td>\n",
       "      <td>Wholesale/Warehouse/Distribution</td>\n",
       "      <td>...</td>\n",
       "      <td>NaN</td>\n",
       "      <td>STATEN IS</td>\n",
       "      <td>40.632845</td>\n",
       "      <td>-74.151048</td>\n",
       "      <td>501.0</td>\n",
       "      <td>49.0</td>\n",
       "      <td>5146740.0</td>\n",
       "      <td>5.011610e+09</td>\n",
       "      <td>239.0</td>\n",
       "      <td>SI0107</td>\n",
       "    </tr>\n",
       "    <tr>\n",
       "      <th>2</th>\n",
       "      <td>FY2018</td>\n",
       "      <td>14-10 123rd Street LLC</td>\n",
       "      <td>Danica/Ivan Drazic</td>\n",
       "      <td>ddrazic@atjelectrical.com</td>\n",
       "      <td>7183210117</td>\n",
       "      <td>14-10 123rd Street</td>\n",
       "      <td>College Point</td>\n",
       "      <td>NY</td>\n",
       "      <td>11356</td>\n",
       "      <td>Commercial</td>\n",
       "      <td>...</td>\n",
       "      <td>NaN</td>\n",
       "      <td>QUEENS</td>\n",
       "      <td>40.785144</td>\n",
       "      <td>-73.844833</td>\n",
       "      <td>407.0</td>\n",
       "      <td>19.0</td>\n",
       "      <td>4098344.0</td>\n",
       "      <td>4.040850e+09</td>\n",
       "      <td>929.0</td>\n",
       "      <td>QN0701</td>\n",
       "    </tr>\n",
       "    <tr>\n",
       "      <th>3</th>\n",
       "      <td>FY2018</td>\n",
       "      <td>183 Lorriane Street LLC</td>\n",
       "      <td>Tom Sapienza</td>\n",
       "      <td>tsapienza@KLCNY.com</td>\n",
       "      <td>2128405588</td>\n",
       "      <td>183 Lorraine Street</td>\n",
       "      <td>Brooklyn</td>\n",
       "      <td>NY</td>\n",
       "      <td>11231</td>\n",
       "      <td>Wholesale/Warehouse/Distribution</td>\n",
       "      <td>...</td>\n",
       "      <td>NaN</td>\n",
       "      <td>BROOKLYN</td>\n",
       "      <td>40.673106</td>\n",
       "      <td>-74.002300</td>\n",
       "      <td>306.0</td>\n",
       "      <td>38.0</td>\n",
       "      <td>3336622.0</td>\n",
       "      <td>3.005720e+09</td>\n",
       "      <td>5302.0</td>\n",
       "      <td>BK0601</td>\n",
       "    </tr>\n",
       "    <tr>\n",
       "      <th>4</th>\n",
       "      <td>FY2018</td>\n",
       "      <td>21st Century Optics, Inc.</td>\n",
       "      <td>Ralph Woythaler</td>\n",
       "      <td>rwoythaler@21st centuryoptics.com</td>\n",
       "      <td>7183922310</td>\n",
       "      <td>47-00 33rd Street</td>\n",
       "      <td>Lond Island City</td>\n",
       "      <td>NY</td>\n",
       "      <td>11101</td>\n",
       "      <td>Manufacturing</td>\n",
       "      <td>...</td>\n",
       "      <td>NaN</td>\n",
       "      <td>QUEENS</td>\n",
       "      <td>40.742386</td>\n",
       "      <td>-73.932148</td>\n",
       "      <td>402.0</td>\n",
       "      <td>26.0</td>\n",
       "      <td>4003447.0</td>\n",
       "      <td>4.002520e+09</td>\n",
       "      <td>19901.0</td>\n",
       "      <td>QN0202</td>\n",
       "    </tr>\n",
       "  </tbody>\n",
       "</table>\n",
       "<p>5 rows × 30 columns</p>\n",
       "</div>"
      ],
      "text/plain": [
       "   Period                                 Company Name     company contact  \\\n",
       "0  FY2018                         139 ACA Realty, Inc.     Eitan Chandally   \n",
       "1  FY2018  141 Lake Avenue Realty c/o JR Produce, Inc.           Josef Raz   \n",
       "2  FY2018                       14-10 123rd Street LLC  Danica/Ivan Drazic   \n",
       "3  FY2018                      183 Lorriane Street LLC        Tom Sapienza   \n",
       "4  FY2018                    21st Century Optics, Inc.     Ralph Woythaler   \n",
       "\n",
       "                       company email company phone              Address  \\\n",
       "0                  barbara@dial7.com    7187076123    43-23 35th Street   \n",
       "1                jrproduce@gmail.com    7183708782      141 Lake Avenue   \n",
       "2          ddrazic@atjelectrical.com    7183210117   14-10 123rd Street   \n",
       "3                tsapienza@KLCNY.com    2128405588  183 Lorraine Street   \n",
       "4  rwoythaler@21st centuryoptics.com    7183922310    47-00 33rd Street   \n",
       "\n",
       "               City State  Postcode                          Industry  ...  \\\n",
       "0  Long Island City    NY     11101                        Commercial  ...   \n",
       "1     Staten Island    NY     10303  Wholesale/Warehouse/Distribution  ...   \n",
       "2     College Point    NY     11356                        Commercial  ...   \n",
       "3          Brooklyn    NY     11231  Wholesale/Warehouse/Distribution  ...   \n",
       "4  Lond Island City    NY     11101                     Manufacturing  ...   \n",
       "\n",
       "  Electric Savings    Borough   Latitude  Longitude  Community Board  \\\n",
       "0              NaN     QUEENS  40.745706 -73.929565            402.0   \n",
       "1              NaN  STATEN IS  40.632845 -74.151048            501.0   \n",
       "2              NaN     QUEENS  40.785144 -73.844833            407.0   \n",
       "3              NaN   BROOKLYN  40.673106 -74.002300            306.0   \n",
       "4              NaN     QUEENS  40.742386 -73.932148            402.0   \n",
       "\n",
       "  Council District        BIN           BBL  Census Tract (2020)  \\\n",
       "0             26.0  4003160.0  4.002220e+09              17902.0   \n",
       "1             49.0  5146740.0  5.011610e+09                239.0   \n",
       "2             19.0  4098344.0  4.040850e+09                929.0   \n",
       "3             38.0  3336622.0  3.005720e+09               5302.0   \n",
       "4             26.0  4003447.0  4.002520e+09              19901.0   \n",
       "\n",
       "   Neighborhood Tabulation Area (NTA) (2020)  \n",
       "0                                     QN0202  \n",
       "1                                     SI0107  \n",
       "2                                     QN0701  \n",
       "3                                     BK0601  \n",
       "4                                     QN0202  \n",
       "\n",
       "[5 rows x 30 columns]"
      ]
     },
     "execution_count": 3,
     "metadata": {},
     "output_type": "execute_result"
    }
   ],
   "source": [
    "energy_save = pd.read_csv(r\"data/Value_of_Energy_Cost_Savings_Program_Savings_for_Businesses.csv\")\n",
    "energy_save.head()"
   ]
  },
  {
   "cell_type": "code",
   "execution_count": 4,
   "id": "80329eef",
   "metadata": {},
   "outputs": [
    {
     "data": {
      "text/plain": [
       "762"
      ]
     },
     "execution_count": 4,
     "metadata": {},
     "output_type": "execute_result"
    }
   ],
   "source": [
    "#Q1: How many different companies are represented in the data set?\n",
    "energy_save[\"Company Name\"] = energy_save[\"Company Name\"].str.lower()\n",
    "energy_save[\"Company Name\"] = energy_save[\"Company Name\"].str.strip(\" .,\")\n",
    "energy_save[\"Company Name\"] = energy_save[\"Company Name\"].str.replace(\"''+\",\"'\",regex=True)\n",
    "energy_save[\"Company Name\"] = energy_save[\"Company Name\"].str.replace(\"  +\",\" \",regex=True)\n",
    "energy_save[\"Company Name\"] = energy_save[\"Company Name\"].str.replace(\",\",\"\")\n",
    "energy_save[\"Company Name\"] = energy_save[\"Company Name\"].str.replace(\"coporation\",\"corp\")\n",
    "energy_save[\"Company Name\"] = energy_save[\"Company Name\"].str.replace(\"corporation\",\"corp\")\n",
    "energy_save[\"Company Name\"] = energy_save[\"Company Name\"].str.replace(\"incorporated\",\"corp\")\n",
    "\n",
    "\n",
    "\n",
    "len(energy_save[\"Company Name\"].dropna().str.lower().unique())"
   ]
  },
  {
   "cell_type": "code",
   "execution_count": 5,
   "id": "e951da1c",
   "metadata": {},
   "outputs": [
    {
     "data": {
      "text/plain": [
       "array(['QUEENS', 'STATEN IS', 'BROOKLYN', 'MANHATTAN', nan, 'BRONX'],\n",
       "      dtype=object)"
      ]
     },
     "execution_count": 5,
     "metadata": {},
     "output_type": "execute_result"
    }
   ],
   "source": [
    "#Q2: What is the total number of jobs created for businesses in Queens?\n",
    "energy_save[\"Borough\"].unique() # no clean up required\n"
   ]
  },
  {
   "cell_type": "code",
   "execution_count": 6,
   "id": "1ab5e7c5",
   "metadata": {},
   "outputs": [
    {
     "data": {
      "text/plain": [
       "1196.0"
      ]
     },
     "execution_count": 6,
     "metadata": {},
     "output_type": "execute_result"
    }
   ],
   "source": [
    "energy_save[energy_save[\"Borough\"] == \"QUEENS\"][\"Job created\"].sum()"
   ]
  },
  {
   "cell_type": "code",
   "execution_count": 7,
   "id": "16d275d3",
   "metadata": {},
   "outputs": [
    {
     "data": {
      "text/plain": [
       "585"
      ]
     },
     "execution_count": 7,
     "metadata": {},
     "output_type": "execute_result"
    }
   ],
   "source": [
    "#Q3: How many different unique email domains names are there in the data set?\n",
    "energy_save[\"company email\"] = energy_save[\"company email\"].str.lower()\n",
    "energy_save[\"company domain\"] = energy_save[\"company email\"].str.split('@').str[1] #split at @, assume 2 values only\n",
    "energy_save_copy = energy_save[energy_save[\"company domain\"].str.strip().str.contains(\" \")==False] # check if there is space in the domain. That would be wrong \n",
    "energy_save_copy = energy_save_copy[energy_save_copy[\"company domain\"].str.contains(\".\")] # check that a . must exist in the domain. Without that its not valid - A usecase exists\n",
    "energy_save_copy = energy_save_copy[~energy_save_copy[\"company domain\"].str.contains(\"^[.]\",regex=True)] # must not start with a . A use case exists\n",
    "energy_save_copy = energy_save_copy[~energy_save_copy[\"company domain\"].str.contains(\"[!@#$%^&*()]\",regex=True)] # must not contain any punctuation besides .\n",
    "len(energy_save_copy[\"company domain\"].dropna().unique())"
   ]
  },
  {
   "cell_type": "code",
   "execution_count": 17,
   "id": "0b46a41b",
   "metadata": {},
   "outputs": [
    {
     "data": {
      "text/plain": [
       "0"
      ]
     },
     "execution_count": 17,
     "metadata": {},
     "output_type": "execute_result"
    }
   ],
   "source": [
    "sum(energy_save[\"Company Name\"].isna())"
   ]
  },
  {
   "cell_type": "code",
   "execution_count": 19,
   "id": "e9e82755",
   "metadata": {},
   "outputs": [
    {
     "data": {
      "text/html": [
       "<div>\n",
       "<style scoped>\n",
       "    .dataframe tbody tr th:only-of-type {\n",
       "        vertical-align: middle;\n",
       "    }\n",
       "\n",
       "    .dataframe tbody tr th {\n",
       "        vertical-align: top;\n",
       "    }\n",
       "\n",
       "    .dataframe thead th {\n",
       "        text-align: right;\n",
       "    }\n",
       "</style>\n",
       "<table border=\"1\" class=\"dataframe\">\n",
       "  <thead>\n",
       "    <tr style=\"text-align: right;\">\n",
       "      <th></th>\n",
       "      <th>Neighborhood Tabulation Area (NTA) (2020)</th>\n",
       "      <th>Total Savings</th>\n",
       "      <th>Company Name</th>\n",
       "      <th>Job created</th>\n",
       "    </tr>\n",
       "  </thead>\n",
       "  <tbody>\n",
       "    <tr>\n",
       "      <th>0</th>\n",
       "      <td>BK0101</td>\n",
       "      <td>10367.961795</td>\n",
       "      <td>78</td>\n",
       "      <td>16.0</td>\n",
       "    </tr>\n",
       "    <tr>\n",
       "      <th>1</th>\n",
       "      <td>BK0102</td>\n",
       "      <td>12599.753333</td>\n",
       "      <td>9</td>\n",
       "      <td>15.0</td>\n",
       "    </tr>\n",
       "    <tr>\n",
       "      <th>2</th>\n",
       "      <td>BK0103</td>\n",
       "      <td>19150.922857</td>\n",
       "      <td>7</td>\n",
       "      <td>0.0</td>\n",
       "    </tr>\n",
       "    <tr>\n",
       "      <th>3</th>\n",
       "      <td>BK0104</td>\n",
       "      <td>21158.253077</td>\n",
       "      <td>104</td>\n",
       "      <td>187.0</td>\n",
       "    </tr>\n",
       "    <tr>\n",
       "      <th>4</th>\n",
       "      <td>BK0201</td>\n",
       "      <td>15102.036364</td>\n",
       "      <td>11</td>\n",
       "      <td>0.0</td>\n",
       "    </tr>\n",
       "    <tr>\n",
       "      <th>...</th>\n",
       "      <td>...</td>\n",
       "      <td>...</td>\n",
       "      <td>...</td>\n",
       "      <td>...</td>\n",
       "    </tr>\n",
       "    <tr>\n",
       "      <th>89</th>\n",
       "      <td>QN1305</td>\n",
       "      <td>166379.352000</td>\n",
       "      <td>5</td>\n",
       "      <td>0.0</td>\n",
       "    </tr>\n",
       "    <tr>\n",
       "      <th>90</th>\n",
       "      <td>QN1306</td>\n",
       "      <td>21160.505200</td>\n",
       "      <td>25</td>\n",
       "      <td>0.0</td>\n",
       "    </tr>\n",
       "    <tr>\n",
       "      <th>92</th>\n",
       "      <td>SI0106</td>\n",
       "      <td>6338.252857</td>\n",
       "      <td>7</td>\n",
       "      <td>10.0</td>\n",
       "    </tr>\n",
       "    <tr>\n",
       "      <th>93</th>\n",
       "      <td>SI0107</td>\n",
       "      <td>113610.160000</td>\n",
       "      <td>15</td>\n",
       "      <td>300.0</td>\n",
       "    </tr>\n",
       "    <tr>\n",
       "      <th>94</th>\n",
       "      <td>SI0204</td>\n",
       "      <td>605464.839167</td>\n",
       "      <td>12</td>\n",
       "      <td>0.0</td>\n",
       "    </tr>\n",
       "  </tbody>\n",
       "</table>\n",
       "<p>72 rows × 4 columns</p>\n",
       "</div>"
      ],
      "text/plain": [
       "   Neighborhood Tabulation Area (NTA) (2020)  Total Savings  Company Name  \\\n",
       "0                                     BK0101   10367.961795            78   \n",
       "1                                     BK0102   12599.753333             9   \n",
       "2                                     BK0103   19150.922857             7   \n",
       "3                                     BK0104   21158.253077           104   \n",
       "4                                     BK0201   15102.036364            11   \n",
       "..                                       ...            ...           ...   \n",
       "89                                    QN1305  166379.352000             5   \n",
       "90                                    QN1306   21160.505200            25   \n",
       "92                                    SI0106    6338.252857             7   \n",
       "93                                    SI0107  113610.160000            15   \n",
       "94                                    SI0204  605464.839167            12   \n",
       "\n",
       "    Job created  \n",
       "0          16.0  \n",
       "1          15.0  \n",
       "2           0.0  \n",
       "3         187.0  \n",
       "4           0.0  \n",
       "..          ...  \n",
       "89          0.0  \n",
       "90          0.0  \n",
       "92         10.0  \n",
       "93        300.0  \n",
       "94          0.0  \n",
       "\n",
       "[72 rows x 4 columns]"
      ]
     },
     "execution_count": 19,
     "metadata": {},
     "output_type": "execute_result"
    }
   ],
   "source": [
    "# Considering only NTAs with at least 5 listed businesses, what is the average total savings and the total jobs created for each NTA?\n",
    "energy_save_grpby = energy_save.groupby(\"Neighborhood Tabulation Area (NTA) (2020)\").agg({'Total Savings': 'mean','Company Name' : 'count', 'Job created': 'sum'}).reset_index()\n",
    "energy_save_grpby = energy_save_grpby[energy_save_grpby[\"Company Name\"] >= 5]\n",
    "energy_save_grpby"
   ]
  },
  {
   "cell_type": "code",
   "execution_count": 22,
   "id": "090c6237",
   "metadata": {},
   "outputs": [],
   "source": [
    "# Save your result for the previous question as a CSV file.\n",
    "energy_save_grpby.drop(columns=['Company Name']).to_csv('data/nta_jobs_saving.csv',index=False)"
   ]
  },
  {
   "cell_type": "code",
   "execution_count": 27,
   "id": "d6bc1396",
   "metadata": {},
   "outputs": [
    {
     "data": {
      "image/png": "[encoded data removed]",
      "text/plain": [
       "<Figure size 432x288 with 1 Axes>"
      ]
     },
     "metadata": {
      "needs_background": "light"
     },
     "output_type": "display_data"
    }
   ],
   "source": [
    "#scatter plot of jobs created versus average savings. Use both a standard and a logarithmic scale for the average savings.\n",
    "plt.scatter(energy_save_grpby[\"Job created\"], energy_save_grpby[\"Total Savings\"]) \n",
    "plt.xlabel(\"Jobs Created\")\n",
    "plt.ylabel(\"Total Savings\")\n",
    "plt.show()"
   ]
  },
  {
   "cell_type": "code",
   "execution_count": 35,
   "id": "1622ad0b",
   "metadata": {},
   "outputs": [
    {
     "data": {
      "image/png": "[encoded data removed]",
      "text/plain": [
       "<Figure size 432x288 with 1 Axes>"
      ]
     },
     "metadata": {
      "needs_background": "light"
     },
     "output_type": "display_data"
    }
   ],
   "source": [
    "energy_save_grpby_temp = energy_save_grpby[energy_save_grpby[\"Total Savings\"] != 0] # can not log of 0\n",
    "plt.scatter(energy_save_grpby_temp[\"Job created\"], np.log(energy_save_grpby_temp[\"Total Savings\"]))\n",
    "plt.xlabel(\"Jobs Created\")\n",
    "plt.ylabel(\"log(Total Savings)\")\n",
    "plt.show()"
   ]
  },
  {
   "cell_type": "code",
   "execution_count": 37,
   "id": "12e4bdb9",
   "metadata": {},
   "outputs": [
    {
     "data": {
      "image/png": "[encoded data removed]",
      "text/plain": [
       "<Figure size 432x288 with 1 Axes>"
      ]
     },
     "metadata": {
      "needs_background": "light"
     },
     "output_type": "display_data"
    }
   ],
   "source": [
    "#histogram of the log of the average total savings. - given question seems incomplete. \n",
    "plt.hist(np.log(energy_save_grpby_temp[\"Total Savings\"]))\n",
    "plt.xlabel(\"log(Total Savings)\")\n",
    "plt.show()"
   ]
  },
  {
   "cell_type": "code",
   "execution_count": 41,
   "id": "d27ac2f5",
   "metadata": {},
   "outputs": [],
   "source": [
    "#line plot of the total jobs created for each month.\n",
    "\n",
    "energy_save[\"Effective Date\"] = pd.to_datetime(energy_save[\"Effective Date\"])"
   ]
  },
  {
   "cell_type": "code",
   "execution_count": 46,
   "id": "7ee758ff",
   "metadata": {},
   "outputs": [
    {
     "data": {
      "text/html": [
       "<div>\n",
       "<style scoped>\n",
       "    .dataframe tbody tr th:only-of-type {\n",
       "        vertical-align: middle;\n",
       "    }\n",
       "\n",
       "    .dataframe tbody tr th {\n",
       "        vertical-align: top;\n",
       "    }\n",
       "\n",
       "    .dataframe thead th {\n",
       "        text-align: right;\n",
       "    }\n",
       "</style>\n",
       "<table border=\"1\" class=\"dataframe\">\n",
       "  <thead>\n",
       "    <tr style=\"text-align: right;\">\n",
       "      <th></th>\n",
       "      <th>Effective Month</th>\n",
       "      <th>Job created</th>\n",
       "    </tr>\n",
       "  </thead>\n",
       "  <tbody>\n",
       "    <tr>\n",
       "      <th>0</th>\n",
       "      <td>1993-02</td>\n",
       "      <td>25.0</td>\n",
       "    </tr>\n",
       "    <tr>\n",
       "      <th>1</th>\n",
       "      <td>1993-04</td>\n",
       "      <td>10.0</td>\n",
       "    </tr>\n",
       "    <tr>\n",
       "      <th>2</th>\n",
       "      <td>1994-04</td>\n",
       "      <td>15.0</td>\n",
       "    </tr>\n",
       "    <tr>\n",
       "      <th>3</th>\n",
       "      <td>1998-10</td>\n",
       "      <td>17.0</td>\n",
       "    </tr>\n",
       "    <tr>\n",
       "      <th>4</th>\n",
       "      <td>2000-04</td>\n",
       "      <td>0.0</td>\n",
       "    </tr>\n",
       "    <tr>\n",
       "      <th>...</th>\n",
       "      <td>...</td>\n",
       "      <td>...</td>\n",
       "    </tr>\n",
       "    <tr>\n",
       "      <th>197</th>\n",
       "      <td>2022-01</td>\n",
       "      <td>0.0</td>\n",
       "    </tr>\n",
       "    <tr>\n",
       "      <th>198</th>\n",
       "      <td>2022-03</td>\n",
       "      <td>0.0</td>\n",
       "    </tr>\n",
       "    <tr>\n",
       "      <th>199</th>\n",
       "      <td>2022-04</td>\n",
       "      <td>0.0</td>\n",
       "    </tr>\n",
       "    <tr>\n",
       "      <th>200</th>\n",
       "      <td>2022-05</td>\n",
       "      <td>0.0</td>\n",
       "    </tr>\n",
       "    <tr>\n",
       "      <th>201</th>\n",
       "      <td>2022-06</td>\n",
       "      <td>0.0</td>\n",
       "    </tr>\n",
       "  </tbody>\n",
       "</table>\n",
       "<p>202 rows × 2 columns</p>\n",
       "</div>"
      ],
      "text/plain": [
       "    Effective Month  Job created\n",
       "0           1993-02         25.0\n",
       "1           1993-04         10.0\n",
       "2           1994-04         15.0\n",
       "3           1998-10         17.0\n",
       "4           2000-04          0.0\n",
       "..              ...          ...\n",
       "197         2022-01          0.0\n",
       "198         2022-03          0.0\n",
       "199         2022-04          0.0\n",
       "200         2022-05          0.0\n",
       "201         2022-06          0.0\n",
       "\n",
       "[202 rows x 2 columns]"
      ]
     },
     "execution_count": 46,
     "metadata": {},
     "output_type": "execute_result"
    }
   ],
   "source": [
    "energy_save[\"Effective Month\"] = energy_save[\"Effective Date\"].dt.to_period('M')\n",
    "energy_save_months = energy_save.groupby(\"Effective Month\").agg({ 'Job created': 'sum'}).reset_index()\n",
    "energy_save_months"
   ]
  },
  {
   "cell_type": "code",
   "execution_count": 57,
   "id": "dee32c6e",
   "metadata": {},
   "outputs": [
    {
     "data": {
      "text/plain": [
       "0     1993-02-01\n",
       "1     1993-04-01\n",
       "2     1994-04-01\n",
       "3     1998-10-01\n",
       "4     2000-04-01\n",
       "         ...    \n",
       "197   2022-01-01\n",
       "198   2022-03-01\n",
       "199   2022-04-01\n",
       "200   2022-05-01\n",
       "201   2022-06-01\n",
       "Name: Effective Month, Length: 202, dtype: datetime64[ns]"
      ]
     },
     "execution_count": 57,
     "metadata": {},
     "output_type": "execute_result"
    }
   ],
   "source": [
    "energy_save_months[\"Effective Month\"].dt.to_timestamp()"
   ]
  },
  {
   "cell_type": "code",
   "execution_count": 59,
   "id": "589ff360",
   "metadata": {},
   "outputs": [
    {
     "data": {
      "image/png": "[encoded data removed]",
      "text/plain": [
       "<Figure size 432x288 with 1 Axes>"
      ]
     },
     "metadata": {
      "needs_background": "light"
     },
     "output_type": "display_data"
    }
   ],
   "source": [
    "plt.plot(energy_save_months[\"Effective Month\"].dt.to_timestamp(),energy_save_months[\"Job created\"])\n",
    "plt.ylabel(\"Jobs Created\")\n",
    "plt.xlabel(\"Timeline\")\n",
    "plt.title(\"Number of jobs created per month\")\n",
    "plt.show()"
   ]
  },
  {
   "cell_type": "code",
   "execution_count": 62,
   "id": "6ad399ce",
   "metadata": {},
   "outputs": [
    {
     "data": {
      "text/plain": [
       "'1.3.5'"
      ]
     },
     "execution_count": 62,
     "metadata": {},
     "output_type": "execute_result"
    }
   ],
   "source": [
    "pd.__version__"
   ]
  },
  {
   "cell_type": "code",
   "execution_count": 63,
   "id": "5643d1b2",
   "metadata": {},
   "outputs": [
    {
     "data": {
      "text/plain": [
       "'1.21.5'"
      ]
     },
     "execution_count": 63,
     "metadata": {},
     "output_type": "execute_result"
    }
   ],
   "source": [
    "np.__version__"
   ]
  },
  {
   "cell_type": "code",
   "execution_count": 64,
   "id": "8404cb11",
   "metadata": {},
   "outputs": [
    {
     "data": {
      "text/plain": [
       "'3.5.1'"
      ]
     },
     "execution_count": 64,
     "metadata": {},
     "output_type": "execute_result"
    }
   ],
   "source": [
    "import matplotlib\n",
    "matplotlib.__version__"
   ]
  }
 ],
 "metadata": {
  "kernelspec": {
   "display_name": "Python 3",
   "language": "python",
   "name": "python3"
  },
  "language_info": {
   "codemirror_mode": {
    "name": "ipython",
    "version": 3
   },
   "file_extension": ".py",
   "mimetype": "text/x-python",
   "name": "python",
   "nbconvert_exporter": "python",
   "pygments_lexer": "ipython3",
   "version": "3.7.3"
  }
 },
 "nbformat": 4,
 "nbformat_minor": 5
}
