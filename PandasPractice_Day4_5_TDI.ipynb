{
 "cells": [
  {
   "cell_type": "markdown",
   "id": "680f45b2",
   "metadata": {},
   "source": [
    "## MILESTONE PROJECT - VAISHALI TALWAR\n"
   ]
  },
  {
   "cell_type": "markdown",
   "id": "1ae21955",
   "metadata": {},
   "source": [
    "### PANDAS"
   ]
  },
  {
   "cell_type": "code",
   "execution_count": 1,
   "id": "5eb46dc0",
   "metadata": {},
   "outputs": [],
   "source": [
    "# QUESTIONS:\n",
    "# How many different companies are represented in the data set?\n",
    "# What is the total number of jobs created for businesses in Queens?\n",
    "# How many different unique email domains names are there in the data set?\n",
    "# Considering only NTAs with at least 5 listed businesses, what is the average total savings and the total jobs created for each NTA?\n",
    "# Save your result for the previous question as a CSV file."
   ]
  },
  {
   "cell_type": "code",
   "execution_count": 1,
   "id": "385392b2",
   "metadata": {},
   "outputs": [],
   "source": [
    "import pandas as pd\n",
    "import matplotlib.pyplot as plt\n",
    "import numpy as np"
   ]
  },
  {
   "cell_type": "code",
   "execution_count": 2,
   "id": "8e88dee9",
   "metadata": {},
   "outputs": [
    {
     "data": {
      "text/html": [
       "<div>\n",
       "<style scoped>\n",
       "    .dataframe tbody tr th:only-of-type {\n",
       "        vertical-align: middle;\n",
       "    }\n",
       "\n",
       "    .dataframe tbody tr th {\n",
       "        vertical-align: top;\n",
       "    }\n",
       "\n",
       "    .dataframe thead th {\n",
       "        text-align: right;\n",
       "    }\n",
       "</style>\n",
       "<table border=\"1\" class=\"dataframe\">\n",
       "  <thead>\n",
       "    <tr style=\"text-align: right;\">\n",
       "      <th></th>\n",
       "      <th>Period</th>\n",
       "      <th>Company Name</th>\n",
       "      <th>company contact</th>\n",
       "      <th>company email</th>\n",
       "      <th>company phone</th>\n",
       "      <th>Address</th>\n",
       "      <th>City</th>\n",
       "      <th>State</th>\n",
       "      <th>Postcode</th>\n",
       "      <th>Industry</th>\n",
       "      <th>...</th>\n",
       "      <th>Electric Savings</th>\n",
       "      <th>Borough</th>\n",
       "      <th>Latitude</th>\n",
       "      <th>Longitude</th>\n",
       "      <th>Community Board</th>\n",
       "      <th>Council District</th>\n",
       "      <th>BIN</th>\n",
       "      <th>BBL</th>\n",
       "      <th>Census Tract (2020)</th>\n",
       "      <th>Neighborhood Tabulation Area (NTA) (2020)</th>\n",
       "    </tr>\n",
       "  </thead>\n",
       "  <tbody>\n",
       "    <tr>\n",
       "      <th>0</th>\n",
       "      <td>FY2018</td>\n",
       "      <td>139 ACA Realty, Inc.</td>\n",
       "      <td>Eitan Chandally</td>\n",
       "      <td>barbara@dial7.com</td>\n",
       "      <td>7187076123</td>\n",
       "      <td>43-23 35th Street</td>\n",
       "      <td>Long Island City</td>\n",
       "      <td>NY</td>\n",
       "      <td>11101</td>\n",
       "      <td>Commercial</td>\n",
       "      <td>...</td>\n",
       "      <td>NaN</td>\n",
       "      <td>QUEENS</td>\n",
       "      <td>40.745706</td>\n",
       "      <td>-73.929565</td>\n",
       "      <td>402.0</td>\n",
       "      <td>26.0</td>\n",
       "      <td>4003160.0</td>\n",
       "      <td>4.002220e+09</td>\n",
       "      <td>17902.0</td>\n",
       "      <td>QN0202</td>\n",
       "    </tr>\n",
       "    <tr>\n",
       "      <th>1</th>\n",
       "      <td>FY2018</td>\n",
       "      <td>141 Lake Avenue Realty c/o JR Produce, Inc.</td>\n",
       "      <td>Josef Raz</td>\n",
       "      <td>jrproduce@gmail.com</td>\n",
       "      <td>7183708782</td>\n",
       "      <td>141 Lake Avenue</td>\n",
       "      <td>Staten Island</td>\n",
       "      <td>NY</td>\n",
       "      <td>10303</td>\n",
       "      <td>Wholesale/Warehouse/Distribution</td>\n",
       "      <td>...</td>\n",
       "      <td>NaN</td>\n",
       "      <td>STATEN IS</td>\n",
       "      <td>40.632845</td>\n",
       "      <td>-74.151048</td>\n",
       "      <td>501.0</td>\n",
       "      <td>49.0</td>\n",
       "      <td>5146740.0</td>\n",
       "      <td>5.011610e+09</td>\n",
       "      <td>239.0</td>\n",
       "      <td>SI0107</td>\n",
       "    </tr>\n",
       "    <tr>\n",
       "      <th>2</th>\n",
       "      <td>FY2018</td>\n",
       "      <td>14-10 123rd Street LLC</td>\n",
       "      <td>Danica/Ivan Drazic</td>\n",
       "      <td>ddrazic@atjelectrical.com</td>\n",
       "      <td>7183210117</td>\n",
       "      <td>14-10 123rd Street</td>\n",
       "      <td>College Point</td>\n",
       "      <td>NY</td>\n",
       "      <td>11356</td>\n",
       "      <td>Commercial</td>\n",
       "      <td>...</td>\n",
       "      <td>NaN</td>\n",
       "      <td>QUEENS</td>\n",
       "      <td>40.785144</td>\n",
       "      <td>-73.844833</td>\n",
       "      <td>407.0</td>\n",
       "      <td>19.0</td>\n",
       "      <td>4098344.0</td>\n",
       "      <td>4.040850e+09</td>\n",
       "      <td>929.0</td>\n",
       "      <td>QN0701</td>\n",
       "    </tr>\n",
       "    <tr>\n",
       "      <th>3</th>\n",
       "      <td>FY2018</td>\n",
       "      <td>183 Lorriane Street LLC</td>\n",
       "      <td>Tom Sapienza</td>\n",
       "      <td>tsapienza@KLCNY.com</td>\n",
       "      <td>2128405588</td>\n",
       "      <td>183 Lorraine Street</td>\n",
       "      <td>Brooklyn</td>\n",
       "      <td>NY</td>\n",
       "      <td>11231</td>\n",
       "      <td>Wholesale/Warehouse/Distribution</td>\n",
       "      <td>...</td>\n",
       "      <td>NaN</td>\n",
       "      <td>BROOKLYN</td>\n",
       "      <td>40.673106</td>\n",
       "      <td>-74.002300</td>\n",
       "      <td>306.0</td>\n",
       "      <td>38.0</td>\n",
       "      <td>3336622.0</td>\n",
       "      <td>3.005720e+09</td>\n",
       "      <td>5302.0</td>\n",
       "      <td>BK0601</td>\n",
       "    </tr>\n",
       "    <tr>\n",
       "      <th>4</th>\n",
       "      <td>FY2018</td>\n",
       "      <td>21st Century Optics, Inc.</td>\n",
       "      <td>Ralph Woythaler</td>\n",
       "      <td>rwoythaler@21st centuryoptics.com</td>\n",
       "      <td>7183922310</td>\n",
       "      <td>47-00 33rd Street</td>\n",
       "      <td>Lond Island City</td>\n",
       "      <td>NY</td>\n",
       "      <td>11101</td>\n",
       "      <td>Manufacturing</td>\n",
       "      <td>...</td>\n",
       "      <td>NaN</td>\n",
       "      <td>QUEENS</td>\n",
       "      <td>40.742386</td>\n",
       "      <td>-73.932148</td>\n",
       "      <td>402.0</td>\n",
       "      <td>26.0</td>\n",
       "      <td>4003447.0</td>\n",
       "      <td>4.002520e+09</td>\n",
       "      <td>19901.0</td>\n",
       "      <td>QN0202</td>\n",
       "    </tr>\n",
       "  </tbody>\n",
       "</table>\n",
       "<p>5 rows × 30 columns</p>\n",
       "</div>"
      ],
      "text/plain": [
       "   Period                                 Company Name     company contact  \\\n",
       "0  FY2018                         139 ACA Realty, Inc.     Eitan Chandally   \n",
       "1  FY2018  141 Lake Avenue Realty c/o JR Produce, Inc.           Josef Raz   \n",
       "2  FY2018                       14-10 123rd Street LLC  Danica/Ivan Drazic   \n",
       "3  FY2018                      183 Lorriane Street LLC        Tom Sapienza   \n",
       "4  FY2018                    21st Century Optics, Inc.     Ralph Woythaler   \n",
       "\n",
       "                       company email company phone              Address  \\\n",
       "0                  barbara@dial7.com    7187076123    43-23 35th Street   \n",
       "1                jrproduce@gmail.com    7183708782      141 Lake Avenue   \n",
       "2          ddrazic@atjelectrical.com    7183210117   14-10 123rd Street   \n",
       "3                tsapienza@KLCNY.com    2128405588  183 Lorraine Street   \n",
       "4  rwoythaler@21st centuryoptics.com    7183922310    47-00 33rd Street   \n",
       "\n",
       "               City State  Postcode                          Industry  ...  \\\n",
       "0  Long Island City    NY     11101                        Commercial  ...   \n",
       "1     Staten Island    NY     10303  Wholesale/Warehouse/Distribution  ...   \n",
       "2     College Point    NY     11356                        Commercial  ...   \n",
       "3          Brooklyn    NY     11231  Wholesale/Warehouse/Distribution  ...   \n",
       "4  Lond Island City    NY     11101                     Manufacturing  ...   \n",
       "\n",
       "  Electric Savings    Borough   Latitude  Longitude  Community Board  \\\n",
       "0              NaN     QUEENS  40.745706 -73.929565            402.0   \n",
       "1              NaN  STATEN IS  40.632845 -74.151048            501.0   \n",
       "2              NaN     QUEENS  40.785144 -73.844833            407.0   \n",
       "3              NaN   BROOKLYN  40.673106 -74.002300            306.0   \n",
       "4              NaN     QUEENS  40.742386 -73.932148            402.0   \n",
       "\n",
       "  Council District        BIN           BBL  Census Tract (2020)  \\\n",
       "0             26.0  4003160.0  4.002220e+09              17902.0   \n",
       "1             49.0  5146740.0  5.011610e+09                239.0   \n",
       "2             19.0  4098344.0  4.040850e+09                929.0   \n",
       "3             38.0  3336622.0  3.005720e+09               5302.0   \n",
       "4             26.0  4003447.0  4.002520e+09              19901.0   \n",
       "\n",
       "   Neighborhood Tabulation Area (NTA) (2020)  \n",
       "0                                     QN0202  \n",
       "1                                     SI0107  \n",
       "2                                     QN0701  \n",
       "3                                     BK0601  \n",
       "4                                     QN0202  \n",
       "\n",
       "[5 rows x 30 columns]"
      ]
     },
     "execution_count": 2,
     "metadata": {},
     "output_type": "execute_result"
    }
   ],
   "source": [
    "energy_save = pd.read_csv(r\"data/Value_of_Energy_Cost_Savings_Program_Savings_for_Businesses.csv\")\n",
    "energy_save.head()"
   ]
  },
  {
   "cell_type": "code",
   "execution_count": 4,
   "id": "bd9133c4",
   "metadata": {},
   "outputs": [
    {
     "data": {
      "text/plain": [
       "762"
      ]
     },
     "execution_count": 4,
     "metadata": {},
     "output_type": "execute_result"
    }
   ],
   "source": [
    "#Q1: How many different companies are represented in the data set?\n",
    "energy_save[\"Company Name\"] = energy_save[\"Company Name\"].str.lower() #Ensuring all companies are lower case to eliminate differences based on case\n",
    "energy_save[\"Company Name\"] = energy_save[\"Company Name\"].str.strip(\" .,\") #Stripping of random periods in the names\n",
    "energy_save[\"Company Name\"] = energy_save[\"Company Name\"].str.replace(\"''+\",\"'\",regex=True) #Replacing two apostrophes with one\n",
    "energy_save[\"Company Name\"] = energy_save[\"Company Name\"].str.replace(\"  +\",\" \",regex=True) #Replacing two spaces with one\n",
    "energy_save[\"Company Name\"] = energy_save[\"Company Name\"].str.replace(\",\",\"\") #Removing commas by replacing them with nothing\n",
    "energy_save[\"Company Name\"] = energy_save[\"Company Name\"].str.replace(\"coporation\",\"corp\") #Changing different variations of corp to just corp to eliminate differences based on that.\n",
    "energy_save[\"Company Name\"] = energy_save[\"Company Name\"].str.replace(\"corporation\",\"corp\")\n",
    "energy_save[\"Company Name\"] = energy_save[\"Company Name\"].str.replace(\"incorporated\",\"corp\")\n",
    "\n",
    "\n",
    "\n",
    "len(energy_save[\"Company Name\"].dropna().unique()) #Dropping NaNs"
   ]
  },
  {
   "cell_type": "code",
   "execution_count": 5,
   "id": "497cfb44",
   "metadata": {},
   "outputs": [
    {
     "data": {
      "text/plain": [
       "array(['QUEENS', 'STATEN IS', 'BROOKLYN', 'MANHATTAN', nan, 'BRONX'],\n",
       "      dtype=object)"
      ]
     },
     "execution_count": 5,
     "metadata": {},
     "output_type": "execute_result"
    }
   ],
   "source": [
    "#Q2: What is the total number of jobs created for businesses in Queens?\n",
    "energy_save[\"Borough\"].unique() #No clean up required as borough columns have unique names or NaN\n"
   ]
  },
  {
   "cell_type": "code",
   "execution_count": 5,
   "id": "53796cb1",
   "metadata": {},
   "outputs": [
    {
     "data": {
      "text/plain": [
       "1196.0"
      ]
     },
     "execution_count": 5,
     "metadata": {},
     "output_type": "execute_result"
    }
   ],
   "source": [
    "energy_save[energy_save[\"Borough\"] == \"QUEENS\"][\"Job created\"].sum() #Looked only at jobs created, not at jobs retained or current jobs"
   ]
  },
  {
   "cell_type": "code",
   "execution_count": 7,
   "id": "b49ea341",
   "metadata": {},
   "outputs": [
    {
     "data": {
      "text/plain": [
       "585"
      ]
     },
     "execution_count": 7,
     "metadata": {},
     "output_type": "execute_result"
    }
   ],
   "source": [
    "#Q3: How many different unique email domains names are there in the data set?\n",
    "energy_save[\"company email\"] = energy_save[\"company email\"].str.lower()\n",
    "energy_save[\"company domain\"] = energy_save[\"company email\"].str.split('@').str[1] #split at @, assume 2 values only if split that way\n",
    "energy_save_copy = energy_save[energy_save[\"company domain\"].str.strip().str.contains(\" \")==False] #Check if there is space in the domain. That would be wrong \n",
    "energy_save_copy = energy_save_copy[energy_save_copy[\"company domain\"].str.contains(\".\")] #Check that a \".\" must exist in the domain. Without that its not valid - a usecase exists\n",
    "energy_save_copy = energy_save_copy[~energy_save_copy[\"company domain\"].str.contains(\"^[.]\",regex=True)] #Must not start with a \".\" - a use case exists\n",
    "energy_save_copy = energy_save_copy[~energy_save_copy[\"company domain\"].str.contains(\"[!@#$%^&*()]\",regex=True)] #Must not contain any punctuation besides \".\" (a period)\n",
    "len(energy_save_copy[\"company domain\"].dropna().unique())"
   ]
  },
  {
   "cell_type": "code",
   "execution_count": 12,
   "id": "3ef492d3",
   "metadata": {},
   "outputs": [
    {
     "data": {
      "text/plain": [
       "array(['qn0202', 'si0107', 'qn0701', 'bk0601', 'mn0501', 'bk0502',\n",
       "       'bk0503', 'qn0101', 'qn0201', 'qn0503', 'bk0104', 'bk0102',\n",
       "       'qn1002', 'bk0701', 'qn0602', 'qn0203', 'bk0101', 'bx0201',\n",
       "       'bk0401', 'qn0103', 'mn0902', 'bk0202', 'bk0702', 'bx1102',\n",
       "       'bk0802', 'qn0105', 'bk1701', 'qn1201', 'qn1306', 'qn0402',\n",
       "       'bx0101', 'qn0501', 'qn1204', 'bk1202', 'qn0161', 'bk1302',\n",
       "       'qn0502', 'qn0902', 'bk0201', 'qn0261', 'qn0904', 'bx0302',\n",
       "       'bk0103', 'bk1602', 'bk0301', 'qn0707', 'qn1303', 'qn1205',\n",
       "       'mn0602', 'qn1305', 'bk0261', 'bk1101', 'mn1102', 'bk1702',\n",
       "       'si0305', 'bk1803', 'qn0104', 'mn0102', 'bx1203', 'mn0401',\n",
       "       'bk0203', 'qn0704', 'bx1161', 'bk0204', 'mn1201', 'bx1001',\n",
       "       'qn1202', 'bk1601', 'bx0301', 'qn1402', 'mn1202', 'bx0703',\n",
       "       'si0204', 'bx1202', 'bk1802', 'qn1102', 'mn1001', 'qn1203',\n",
       "       'bk1704', 'bk1801', 'bk1402', 'si0106', 'mn0303', 'mn0502',\n",
       "       'qn0702', 'mn0101', 'bk1403', 'bx0602', 'mn1002', 'mn0603',\n",
       "       'bx0901', 'bk0504', 'bk1204', 'mn0201', 'si0303', 'bx0403',\n",
       "       'qn1103'], dtype=object)"
      ]
     },
     "execution_count": 12,
     "metadata": {},
     "output_type": "execute_result"
    }
   ],
   "source": [
    "energy_save[\"Neighborhood Tabulation Area (NTA) (2020)\"].dropna().str.lower().unique()"
   ]
  },
  {
   "cell_type": "code",
   "execution_count": 53,
   "id": "d4525dc7",
   "metadata": {},
   "outputs": [
    {
     "data": {
      "text/html": [
       "<div>\n",
       "<style scoped>\n",
       "    .dataframe tbody tr th:only-of-type {\n",
       "        vertical-align: middle;\n",
       "    }\n",
       "\n",
       "    .dataframe tbody tr th {\n",
       "        vertical-align: top;\n",
       "    }\n",
       "\n",
       "    .dataframe thead th {\n",
       "        text-align: right;\n",
       "    }\n",
       "</style>\n",
       "<table border=\"1\" class=\"dataframe\">\n",
       "  <thead>\n",
       "    <tr style=\"text-align: right;\">\n",
       "      <th></th>\n",
       "      <th>Neighborhood Tabulation Area (NTA) (2020)</th>\n",
       "      <th>Total Savings</th>\n",
       "      <th>Job created</th>\n",
       "      <th>Company Count</th>\n",
       "    </tr>\n",
       "  </thead>\n",
       "  <tbody>\n",
       "    <tr>\n",
       "      <th>0</th>\n",
       "      <td>BK0101</td>\n",
       "      <td>10367.961795</td>\n",
       "      <td>16.0</td>\n",
       "      <td>78</td>\n",
       "    </tr>\n",
       "    <tr>\n",
       "      <th>1</th>\n",
       "      <td>BK0102</td>\n",
       "      <td>12599.753333</td>\n",
       "      <td>15.0</td>\n",
       "      <td>9</td>\n",
       "    </tr>\n",
       "    <tr>\n",
       "      <th>2</th>\n",
       "      <td>BK0103</td>\n",
       "      <td>19150.922857</td>\n",
       "      <td>0.0</td>\n",
       "      <td>7</td>\n",
       "    </tr>\n",
       "    <tr>\n",
       "      <th>3</th>\n",
       "      <td>BK0104</td>\n",
       "      <td>21158.253077</td>\n",
       "      <td>187.0</td>\n",
       "      <td>104</td>\n",
       "    </tr>\n",
       "    <tr>\n",
       "      <th>4</th>\n",
       "      <td>BK0201</td>\n",
       "      <td>15102.036364</td>\n",
       "      <td>0.0</td>\n",
       "      <td>11</td>\n",
       "    </tr>\n",
       "  </tbody>\n",
       "</table>\n",
       "</div>"
      ],
      "text/plain": [
       "  Neighborhood Tabulation Area (NTA) (2020)  Total Savings  Job created  \\\n",
       "0                                    BK0101   10367.961795         16.0   \n",
       "1                                    BK0102   12599.753333         15.0   \n",
       "2                                    BK0103   19150.922857          0.0   \n",
       "3                                    BK0104   21158.253077        187.0   \n",
       "4                                    BK0201   15102.036364          0.0   \n",
       "\n",
       "   Company Count  \n",
       "0             78  \n",
       "1              9  \n",
       "2              7  \n",
       "3            104  \n",
       "4             11  "
      ]
     },
     "execution_count": 53,
     "metadata": {},
     "output_type": "execute_result"
    }
   ],
   "source": [
    "# Q4: Considering only NTAs with at least 5 listed businesses, what is the average total savings and the total jobs created for each NTA?\n",
    "energy_savings_nta = energy_save.groupby(\"Neighborhood Tabulation Area (NTA) (2020)\").agg({\"Total Savings\": \"mean\", \"Job created\": \"sum\", \"Company Name\": \"count\" })\n",
    "energy_savings_nta = energy_savings_nta.reset_index() #Setting index to numerals to get a better picture.\n",
    "energy_savings_nta = energy_savings_nta.rename(columns = {\"Company Name\": \"Company Count\"})\n",
    "# energy_savings_nta.head()\n",
    "nta_top_5 = energy_savings_nta[energy_savings_nta[\"Company Count\"] >= 5]\n",
    "# nta_top_5.head()"
   ]
  },
  {
   "cell_type": "code",
   "execution_count": 45,
   "id": "fa9e5680",
   "metadata": {},
   "outputs": [
    {
     "data": {
      "text/html": [
       "<div>\n",
       "<style scoped>\n",
       "    .dataframe tbody tr th:only-of-type {\n",
       "        vertical-align: middle;\n",
       "    }\n",
       "\n",
       "    .dataframe tbody tr th {\n",
       "        vertical-align: top;\n",
       "    }\n",
       "\n",
       "    .dataframe thead th {\n",
       "        text-align: right;\n",
       "    }\n",
       "</style>\n",
       "<table border=\"1\" class=\"dataframe\">\n",
       "  <thead>\n",
       "    <tr style=\"text-align: right;\">\n",
       "      <th></th>\n",
       "      <th>Total Savings</th>\n",
       "      <th>Job created</th>\n",
       "    </tr>\n",
       "    <tr>\n",
       "      <th>Neighborhood Tabulation Area (NTA) (2020)</th>\n",
       "      <th></th>\n",
       "      <th></th>\n",
       "    </tr>\n",
       "  </thead>\n",
       "  <tbody>\n",
       "    <tr>\n",
       "      <th>BK0101</th>\n",
       "      <td>10367.961795</td>\n",
       "      <td>16.0</td>\n",
       "    </tr>\n",
       "    <tr>\n",
       "      <th>BK0102</th>\n",
       "      <td>12599.753333</td>\n",
       "      <td>15.0</td>\n",
       "    </tr>\n",
       "    <tr>\n",
       "      <th>BK0103</th>\n",
       "      <td>19150.922857</td>\n",
       "      <td>0.0</td>\n",
       "    </tr>\n",
       "    <tr>\n",
       "      <th>BK0104</th>\n",
       "      <td>21158.253077</td>\n",
       "      <td>187.0</td>\n",
       "    </tr>\n",
       "    <tr>\n",
       "      <th>BK0201</th>\n",
       "      <td>15102.036364</td>\n",
       "      <td>0.0</td>\n",
       "    </tr>\n",
       "  </tbody>\n",
       "</table>\n",
       "</div>"
      ],
      "text/plain": [
       "                                           Total Savings  Job created\n",
       "Neighborhood Tabulation Area (NTA) (2020)                            \n",
       "BK0101                                      10367.961795         16.0\n",
       "BK0102                                      12599.753333         15.0\n",
       "BK0103                                      19150.922857          0.0\n",
       "BK0104                                      21158.253077        187.0\n",
       "BK0201                                      15102.036364          0.0"
      ]
     },
     "execution_count": 45,
     "metadata": {},
     "output_type": "execute_result"
    }
   ],
   "source": [
    "#Setting the index to NTA\n",
    "nta_top_5 = nta_top_5.drop(columns=[\"Company Count\"]).set_index(\"Neighborhood Tabulation Area (NTA) (2020)\")\n",
    "# nta_top_5.head()"
   ]
  },
  {
   "cell_type": "code",
   "execution_count": 49,
   "id": "12959d2b",
   "metadata": {},
   "outputs": [],
   "source": [
    "#Saving the file\n",
    "nta_top_5.to_csv('data/Q4Day4_12DayProgramTDI.csv')"
   ]
  },
  {
   "cell_type": "markdown",
   "id": "8e526b26",
   "metadata": {},
   "source": [
    "### MATPLOTLIB"
   ]
  },
  {
   "cell_type": "code",
   "execution_count": 55,
   "id": "a14090ae",
   "metadata": {},
   "outputs": [
    {
     "data": {
      "image/png": "[encoded data removed]",
      "text/plain": [
       "<Figure size 432x288 with 1 Axes>"
      ]
     },
     "metadata": {
      "needs_background": "light"
     },
     "output_type": "display_data"
    }
   ],
   "source": [
    "#Scatter plot of jobs created versus average savings. Use both a standard and a logarithmic scale for the average savings.\n",
    "plt.scatter(nta_top_5[\"Job created\"], nta_top_5[\"Total Savings\"]) \n",
    "plt.xlabel(\"Jobs Created\")\n",
    "plt.ylabel(\"Total Savings\")\n",
    "plt.show()"
   ]
  },
  {
   "cell_type": "code",
   "execution_count": 57,
   "id": "dc179a09",
   "metadata": {},
   "outputs": [
    {
     "name": "stderr",
     "output_type": "stream",
     "text": [
      "C:\\Users\\vaish\\Anaconda3\\lib\\site-packages\\pandas\\core\\arraylike.py:364: RuntimeWarning: invalid value encountered in log\n",
      "  result = getattr(ufunc, method)(*inputs, **kwargs)\n"
     ]
    },
    {
     "data": {
      "image/png": "[encoded data removed]",
      "text/plain": [
       "<Figure size 432x288 with 1 Axes>"
      ]
     },
     "metadata": {
      "needs_background": "light"
     },
     "output_type": "display_data"
    }
   ],
   "source": [
    "nta_top_5_temp = nta_top_5[nta_top_5[\"Total Savings\"] != 0] # can not log of 0\n",
    "plt.scatter(nta_top_5_temp[\"Job created\"], np.log(nta_top_5_temp[\"Total Savings\"]))\n",
    "plt.xlabel(\"Jobs Created\")\n",
    "plt.ylabel(\"log (Total Savings)\")\n",
    "plt.show()"
   ]
  },
  {
   "cell_type": "code",
   "execution_count": 58,
   "id": "c5839365",
   "metadata": {},
   "outputs": [
    {
     "data": {
      "image/png": "[encoded data removed]",
      "text/plain": [
       "<Figure size 432x288 with 1 Axes>"
      ]
     },
     "metadata": {
      "needs_background": "light"
     },
     "output_type": "display_data"
    }
   ],
   "source": [
    "#Histogram of the log of the average total savings.\n",
    "plt.hist(np.log(nta_top_5_temp[\"Total Savings\"]))\n",
    "plt.xlabel(\"log (Total Savings)\")\n",
    "plt.show()"
   ]
  },
  {
   "cell_type": "code",
   "execution_count": 59,
   "id": "0a0c633d",
   "metadata": {},
   "outputs": [],
   "source": [
    "#Line plot of the total jobs created for each month.\n",
    "\n",
    "energy_save[\"Effective Date\"] = pd.to_datetime(energy_save[\"Effective Date\"])"
   ]
  },
  {
   "cell_type": "code",
   "execution_count": 60,
   "id": "19ba5596",
   "metadata": {},
   "outputs": [
    {
     "data": {
      "text/html": [
       "<div>\n",
       "<style scoped>\n",
       "    .dataframe tbody tr th:only-of-type {\n",
       "        vertical-align: middle;\n",
       "    }\n",
       "\n",
       "    .dataframe tbody tr th {\n",
       "        vertical-align: top;\n",
       "    }\n",
       "\n",
       "    .dataframe thead th {\n",
       "        text-align: right;\n",
       "    }\n",
       "</style>\n",
       "<table border=\"1\" class=\"dataframe\">\n",
       "  <thead>\n",
       "    <tr style=\"text-align: right;\">\n",
       "      <th></th>\n",
       "      <th>Effective Month</th>\n",
       "      <th>Job created</th>\n",
       "    </tr>\n",
       "  </thead>\n",
       "  <tbody>\n",
       "    <tr>\n",
       "      <th>0</th>\n",
       "      <td>1993-02</td>\n",
       "      <td>25.0</td>\n",
       "    </tr>\n",
       "    <tr>\n",
       "      <th>1</th>\n",
       "      <td>1993-04</td>\n",
       "      <td>10.0</td>\n",
       "    </tr>\n",
       "    <tr>\n",
       "      <th>2</th>\n",
       "      <td>1994-04</td>\n",
       "      <td>15.0</td>\n",
       "    </tr>\n",
       "    <tr>\n",
       "      <th>3</th>\n",
       "      <td>1998-10</td>\n",
       "      <td>17.0</td>\n",
       "    </tr>\n",
       "    <tr>\n",
       "      <th>4</th>\n",
       "      <td>2000-04</td>\n",
       "      <td>0.0</td>\n",
       "    </tr>\n",
       "    <tr>\n",
       "      <th>...</th>\n",
       "      <td>...</td>\n",
       "      <td>...</td>\n",
       "    </tr>\n",
       "    <tr>\n",
       "      <th>197</th>\n",
       "      <td>2022-01</td>\n",
       "      <td>0.0</td>\n",
       "    </tr>\n",
       "    <tr>\n",
       "      <th>198</th>\n",
       "      <td>2022-03</td>\n",
       "      <td>0.0</td>\n",
       "    </tr>\n",
       "    <tr>\n",
       "      <th>199</th>\n",
       "      <td>2022-04</td>\n",
       "      <td>0.0</td>\n",
       "    </tr>\n",
       "    <tr>\n",
       "      <th>200</th>\n",
       "      <td>2022-05</td>\n",
       "      <td>0.0</td>\n",
       "    </tr>\n",
       "    <tr>\n",
       "      <th>201</th>\n",
       "      <td>2022-06</td>\n",
       "      <td>0.0</td>\n",
       "    </tr>\n",
       "  </tbody>\n",
       "</table>\n",
       "<p>202 rows × 2 columns</p>\n",
       "</div>"
      ],
      "text/plain": [
       "    Effective Month  Job created\n",
       "0           1993-02         25.0\n",
       "1           1993-04         10.0\n",
       "2           1994-04         15.0\n",
       "3           1998-10         17.0\n",
       "4           2000-04          0.0\n",
       "..              ...          ...\n",
       "197         2022-01          0.0\n",
       "198         2022-03          0.0\n",
       "199         2022-04          0.0\n",
       "200         2022-05          0.0\n",
       "201         2022-06          0.0\n",
       "\n",
       "[202 rows x 2 columns]"
      ]
     },
     "execution_count": 60,
     "metadata": {},
     "output_type": "execute_result"
    }
   ],
   "source": [
    "energy_save[\"Effective Month\"] = energy_save[\"Effective Date\"].dt.to_period('M')\n",
    "energy_save_months = energy_save.groupby(\"Effective Month\").agg({ 'Job created': 'sum'}).reset_index()\n",
    "energy_save_months"
   ]
  },
  {
   "cell_type": "code",
   "execution_count": 61,
   "id": "b7b085da",
   "metadata": {},
   "outputs": [
    {
     "data": {
      "text/plain": [
       "0     1993-02-01\n",
       "1     1993-04-01\n",
       "2     1994-04-01\n",
       "3     1998-10-01\n",
       "4     2000-04-01\n",
       "         ...    \n",
       "197   2022-01-01\n",
       "198   2022-03-01\n",
       "199   2022-04-01\n",
       "200   2022-05-01\n",
       "201   2022-06-01\n",
       "Name: Effective Month, Length: 202, dtype: datetime64[ns]"
      ]
     },
     "execution_count": 61,
     "metadata": {},
     "output_type": "execute_result"
    }
   ],
   "source": [
    "energy_save_months[\"Effective Month\"].dt.to_timestamp()"
   ]
  },
  {
   "cell_type": "code",
   "execution_count": 62,
   "id": "febd056a",
   "metadata": {},
   "outputs": [
    {
     "data": {
      "image/png": "[encoded data removed]",
      "text/plain": [
       "<Figure size 432x288 with 1 Axes>"
      ]
     },
     "metadata": {
      "needs_background": "light"
     },
     "output_type": "display_data"
    }
   ],
   "source": [
    "plt.plot(energy_save_months[\"Effective Month\"].dt.to_timestamp(),energy_save_months[\"Job created\"])\n",
    "plt.ylabel(\"Jobs Created\")\n",
    "plt.xlabel(\"Timeline\")\n",
    "plt.title(\"Number of jobs created per month\")\n",
    "plt.show()"
   ]
  },
  {
   "cell_type": "code",
   "execution_count": 62,
   "id": "e3f335b6",
   "metadata": {},
   "outputs": [
    {
     "data": {
      "text/plain": [
       "'1.3.5'"
      ]
     },
     "execution_count": 62,
     "metadata": {},
     "output_type": "execute_result"
    }
   ],
   "source": [
    "pd.__version__"
   ]
  },
  {
   "cell_type": "code",
   "execution_count": 63,
   "id": "2d5d3ded",
   "metadata": {},
   "outputs": [
    {
     "data": {
      "text/plain": [
       "'1.21.5'"
      ]
     },
     "execution_count": 63,
     "metadata": {},
     "output_type": "execute_result"
    }
   ],
   "source": [
    "np.__version__"
   ]
  },
  {
   "cell_type": "code",
   "execution_count": 64,
   "id": "3d7ea93e",
   "metadata": {},
   "outputs": [
    {
     "data": {
      "text/plain": [
       "'3.5.1'"
      ]
     },
     "execution_count": 64,
     "metadata": {},
     "output_type": "execute_result"
    }
   ],
   "source": [
    "import matplotlib\n",
    "matplotlib.__version__"
   ]
  }
 ],
 "metadata": {
  "kernelspec": {
   "display_name": "Python 3",
   "language": "python",
   "name": "python3"
  },
  "language_info": {
   "codemirror_mode": {
    "name": "ipython",
    "version": 3
   },
   "file_extension": ".py",
   "mimetype": "text/x-python",
   "name": "python",
   "nbconvert_exporter": "python",
   "pygments_lexer": "ipython3",
   "version": "3.7.3"
  }
 },
 "nbformat": 4,
 "nbformat_minor": 5
}
